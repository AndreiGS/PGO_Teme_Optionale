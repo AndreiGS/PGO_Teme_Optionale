{
 "cells": [
  {
   "cell_type": "code",
   "execution_count": 14,
   "metadata": {},
   "outputs": [],
   "source": [
    "from typing import List\n",
    "from torch.utils.data import Dataset\n",
    "\n",
    "\n",
    "class ExampleDataset(Dataset):\n",
    "    def __init__(self, large_file_path, chunk_size):\n",
    "        self.large_file_path = large_file_path\n",
    "        self.line_offsets = self.get_line_offsets(large_file_path, chunk_size)\n",
    "\n",
    "    def get_line_offsets(self, path: str, chunk_size: int) -> List[int]:\n",
    "        offsets = [0]\n",
    "        with open(path, \"rb\") as file:\n",
    "            chunk = file.readlines(chunk_size)\n",
    "            while chunk:\n",
    "                for line in chunk:\n",
    "                    offsets.append(offsets[-1] + len(line))\n",
    "                print(f\"Lines found: {len(offsets)}\", end='\\r')\n",
    "                chunk = file.readlines(chunk_size)\n",
    "        return offsets\n",
    "    \n",
    "    def __len__(self):\n",
    "        return len(self.line_offsets)\n",
    "    \n",
    "    def __getitem__(self, line):\n",
    "        offset = self.line_offsets[line]\n",
    "        with open(self.large_file_path, 'r', encoding='utf-8') as f:\n",
    "            f.seek(offset)\n",
    "            line = f.readline()\n",
    "            return line"
   ]
  },
  {
   "cell_type": "code",
   "execution_count": 15,
   "metadata": {},
   "outputs": [
    {
     "name": "stdout",
     "output_type": "stream",
     "text": [
      "Lines found: 26\n",
      "Lines found: 48\n",
      "Lines found: 70\n",
      "Lines found: 92\n",
      "Lines found: 111\n",
      "Lines found: 128\n",
      "Lines found: 145\n",
      "Lines found: 162\n",
      "Lines found: 179\n",
      "Lines found: 196\n",
      "Lines found: 201\n",
      "201\n"
     ]
    }
   ],
   "source": [
    "dataset = ExampleDataset(\"data/full_dataset.txt\", chunk_size=2**6)\n",
    "\n",
    "print(len(dataset))\n"
   ]
  },
  {
   "cell_type": "code",
   "execution_count": null,
   "metadata": {},
   "outputs": [],
   "source": [
    "from torch.utils.data import DataLoader\n",
    "\n",
    "\n",
    "dataloader = DataLoader(dataset, batch_size=4, shuffle=True)\n",
    "for batch in dataloader:\n",
    "    print(batch)"
   ]
  }
 ],
 "metadata": {
  "kernelspec": {
   "display_name": "ia",
   "language": "python",
   "name": "python3"
  },
  "language_info": {
   "codemirror_mode": {
    "name": "ipython",
    "version": 3
   },
   "file_extension": ".py",
   "mimetype": "text/x-python",
   "name": "python",
   "nbconvert_exporter": "python",
   "pygments_lexer": "ipython3",
   "version": "3.10.9"
  }
 },
 "nbformat": 4,
 "nbformat_minor": 2
}
